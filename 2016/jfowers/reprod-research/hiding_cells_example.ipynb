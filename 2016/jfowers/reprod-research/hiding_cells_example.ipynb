{
 "cells": [
  {
   "cell_type": "markdown",
   "metadata": {},
   "source": [
    "# Creating a report with an ipython notebook"
   ]
  },
  {
   "cell_type": "markdown",
   "metadata": {},
   "source": [
    "It's still currently a bit of a pain to select what cells to show in your report and which to hide. However, the method presented here, after installation, allows you to simply edit the metadata of cells and choose whether to show them in a HTML or PDF export of the notebook."
   ]
  },
  {
   "cell_type": "markdown",
   "metadata": {},
   "source": [
    "## Installation"
   ]
  },
  {
   "cell_type": "markdown",
   "metadata": {},
   "source": [
    "Here's a method that allows you to hide cells from the HTML/PDF output by editing the cell metadata only. No need to add javascript to cells in the notebook explicitly.\n",
    "\n",
    "Versions I'm using:\n",
    "\n",
    "`$ jupyter notebook --version`\n",
    "\n",
    "4.1.0\n",
    "\n",
    "`$ jupyter nbconvert --version`\n",
    "\n",
    "4.2.0\n",
    "\n",
    "1. Download the ipython notebook extension templates by following install instructions on Github: `pip install https://github.com/ipython-contrib/IPython-notebook-extensions/tarball/master`\n",
    "    - This just install files into your local jupyter data directory. [Full details in the readme](https://github.com/ipython-contrib/IPython-notebook-extensions#installpy)\n",
    "1. run `jupyter notebook`\n",
    "1. go to `localhost:8888/nbextensions` (or whatever port you started on) and activate `Printview`\n",
    "1. go back to `localhost:8888/tree`, create a new notebook and go into it\n",
    "1. create a code cell with some code in it that produces output e.g. `print(\"You can see me\")  # But not me`\n",
    "1. go to `View` > `Cell Toolbar` > `Edit Metadata`\n",
    "1. click the `Edit Metadata` button now showing to the top right of the cell\n",
    "1. add `'hide_input':True` to the json e.g. mine looked like ```{\n",
    "  \"collapsed\": false,\n",
    "  \"hide_input\": true,\n",
    "  \"trusted\": true\n",
    "}``` after\n",
    "1. save notebook\n",
    "1. go back to the terminal and execute  `jupyter nbconvert --to pdf --template printviewlatex.tplx hiding_cells_example.ipynb` (if your notebook is called `hiding_cells_example.ipynb.ipynb`)\n",
    "\n",
    "You should now have a document called notebookname.pdf in the directory. Hopefully it should have just the text `You can see me` in it...fingers crossed. \n"
   ]
  },
  {
   "cell_type": "code",
   "execution_count": 1,
   "metadata": {
    "collapsed": false,
    "hide_input": true
   },
   "outputs": [
    {
     "name": "stdout",
     "output_type": "stream",
     "text": [
      "You can see me\n"
     ]
    }
   ],
   "source": [
    "print(\"You can see me\")  # But not me"
   ]
  }
 ],
 "metadata": {
  "celltoolbar": "Edit Metadata",
  "kernelspec": {
   "display_name": "Python 2",
   "language": "python",
   "name": "python2"
  },
  "language_info": {
   "codemirror_mode": {
    "name": "ipython",
    "version": 2
   },
   "file_extension": ".py",
   "mimetype": "text/x-python",
   "name": "python",
   "nbconvert_exporter": "python",
   "pygments_lexer": "ipython2",
   "version": "2.7.11"
  }
 },
 "nbformat": 4,
 "nbformat_minor": 0
}
